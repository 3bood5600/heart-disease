{
 "cells": [
  {
   "cell_type": "markdown",
   "id": "aa6fa220",
   "metadata": {},
   "source": [
    "# 01 – Data Preprocessing & EDA\n",
    "\n",
    "Objectives:\n",
    "- Load raw UCI Heart Disease dataset\n",
    "- Inspect schema, types, target distribution\n",
    "- Handle missing values\n",
    "- Separate numeric vs categorical\n",
    "- Encode categoricals (OneHot / Ordinal where sensible)\n",
    "- Scale numeric features (StandardScaler)\n",
    "- Exploratory plots: histograms, boxplots, correlation heatmap\n",
    "- Build initial preprocessing Pipeline ready for later modeling.\n",
    "\n",
    "Best Practices:\n",
    "- NEVER fit transformers on test data (use Pipeline & train split)\n",
    "- Preserve raw data; write cleaned frame if needed.\n",
    "- Track class imbalance early (affects metrics & resampling)."
   ]
  },
  {
   "cell_type": "code",
   "execution_count": null,
   "id": "7db3b385",
   "metadata": {},
   "outputs": [],
   "source": [
    "import pandas as pd\n",
    "import numpy as np\n",
    "from pathlib import Path\n",
    "import matplotlib.pyplot as plt\n",
    "import seaborn as sns\n",
    "from sklearn.model_selection import train_test_split\n",
    "from sklearn.compose import ColumnTransformer\n",
    "from sklearn.preprocessing import OneHotEncoder, StandardScaler\n",
    "from sklearn.pipeline import Pipeline\n",
    "from sklearn.impute import SimpleImputer\n",
    "\n",
    "DATA_PATH = Path('../data/heart_disease.csv')\n",
    "assert DATA_PATH.exists(), 'Place heart_disease.csv in data/'\n",
    "df = pd.read_csv(DATA_PATH)\n",
    "df.head()"
   ]
  },
  {
   "cell_type": "markdown",
   "id": "7d096069",
   "metadata": {},
   "source": [
    "## 1. Basic Inspection"
   ]
  },
  {
   "cell_type": "code",
   "execution_count": null,
   "id": "7c1d1f27",
   "metadata": {},
   "outputs": [],
   "source": [
    "df.shape, df.dtypes.head()"
   ]
  },
  {
   "cell_type": "code",
   "execution_count": null,
   "id": "74d66630",
   "metadata": {},
   "outputs": [],
   "source": [
    "df.isna().sum().sort_values(ascending=False).head(15)"
   ]
  },
  {
   "cell_type": "code",
   "execution_count": null,
   "id": "0688c6bd",
   "metadata": {},
   "outputs": [],
   "source": [
    "df.describe().T"
   ]
  },
  {
   "cell_type": "markdown",
   "id": "70eba334",
   "metadata": {},
   "source": [
    "## 2. Target Distribution\n",
    "Replace 'target' with the actual target column name in dataset variant (often 'target' or 'num')."
   ]
  },
  {
   "cell_type": "code",
   "execution_count": null,
   "id": "70527725",
   "metadata": {},
   "outputs": [],
   "source": [
    "target_col = 'target' if 'target' in df.columns else 'num'\n",
    "df[target_col].value_counts(normalize=True) * 100"
   ]
  },
  {
   "cell_type": "markdown",
   "id": "2608c380",
   "metadata": {},
   "source": [
    "## 3. Split Features / Target & Identify Types"
   ]
  },
  {
   "cell_type": "code",
   "execution_count": null,
   "id": "c33d3a59",
   "metadata": {},
   "outputs": [],
   "source": [
    "y = df[target_col]\n",
    "X = df.drop(columns=[target_col])\n",
    "# Heuristic: treat small-cardinality int columns as categorical\n",
    "categorical = [c for c in X.columns if X[c].dtype in ['object','category']]\n",
    "# Add ints with low unique count\n",
    "for c in X.columns:\n",
    "    if X[c].dtype in [np.int64, np.int32, 'int64'] and X[c].nunique() <= 10:\n",
    "        categorical.append(c)\n",
    "categorical = sorted(set(categorical))\n",
    "numeric = [c for c in X.columns if c not in categorical]\n",
    "categorical, numeric[:5]"
   ]
  },
  {
   "cell_type": "markdown",
   "id": "fe9d95a4",
   "metadata": {},
   "source": [
    "## 4. EDA – Histograms (Numeric)"
   ]
  },
  {
   "cell_type": "code",
   "execution_count": null,
   "id": "90487e2e",
   "metadata": {},
   "outputs": [],
   "source": [
    "X[numeric].hist(figsize=(14,10), bins=20); plt.tight_layout()"
   ]
  },
  {
   "cell_type": "markdown",
   "id": "11456fb2",
   "metadata": {},
   "source": [
    "## 5. EDA – Boxplots (Outlier Scan)"
   ]
  },
  {
   "cell_type": "code",
   "execution_count": null,
   "id": "4b3984c6",
   "metadata": {},
   "outputs": [],
   "source": [
    "plt.figure(figsize=(14, len(numeric)*0.4))\n",
    "sns.boxplot(data=X[numeric], orient='h')\n",
    "plt.title('Numeric Feature Distributions – Boxplots')\n",
    "plt.show()"
   ]
  },
  {
   "cell_type": "markdown",
   "id": "25b8d897",
   "metadata": {},
   "source": [
    "## 6. Correlation Heatmap (Numeric)"
   ]
  },
  {
   "cell_type": "code",
   "execution_count": null,
   "id": "2912d668",
   "metadata": {},
   "outputs": [],
   "source": [
    "plt.figure(figsize=(12,10))\n",
    "corr = df[numeric + [target_col]].corr()\n",
    "sns.heatmap(corr, cmap='coolwarm', center=0, annot=False)\n",
    "plt.title('Correlation Heatmap')\n",
    "plt.show()"
   ]
  },
  {
   "cell_type": "markdown",
   "id": "41d5ec12",
   "metadata": {},
   "source": [
    "## 7. Preprocessing Pipeline\n",
    "Impute: median for numeric, most_frequent for categorical. Scale numeric. One-hot encode categorical."
   ]
  },
  {
   "cell_type": "code",
   "execution_count": null,
   "id": "c03bb3e1",
   "metadata": {},
   "outputs": [],
   "source": [
    "numeric_transformer = Pipeline(steps=[\n",
    "    ('imputer', SimpleImputer(strategy='median')),\n",
    "    ('scaler', StandardScaler())\n",
    "])\n",
    "\n",
    "categorical_transformer = Pipeline(steps=[\n",
    "    ('imputer', SimpleImputer(strategy='most_frequent')),\n",
    "    ('ohe', OneHotEncoder(handle_unknown='ignore'))\n",
    "])\n",
    "\n",
    "preprocessor = ColumnTransformer(transformers=[\n",
    "    ('num', numeric_transformer, numeric),\n",
    "    ('cat', categorical_transformer, categorical)\n",
    "])\n",
    "\n",
    "preprocessor"
   ]
  },
  {
   "cell_type": "markdown",
   "id": "899b61c8",
   "metadata": {},
   "source": [
    "## 8. Train/Test Split (Stratified)"
   ]
  },
  {
   "cell_type": "code",
   "execution_count": null,
   "id": "24b6979d",
   "metadata": {},
   "outputs": [],
   "source": [
    "X_train, X_test, y_train, y_test = train_test_split(X, y, test_size=0.2, stratify=y, random_state=42)\n",
    "X_train.shape, X_test.shape"
   ]
  },
  {
   "cell_type": "markdown",
   "id": "37af2abb",
   "metadata": {},
   "source": [
    "## 9. Fit & Transform (Preview Encoded Feature Matrix Shape)"
   ]
  },
  {
   "cell_type": "code",
   "execution_count": null,
   "id": "54228944",
   "metadata": {},
   "outputs": [],
   "source": [
    "Xt = preprocessor.fit_transform(X_train)\n",
    "Xt.shape"
   ]
  },
  {
   "cell_type": "markdown",
   "id": "669cedbd",
   "metadata": {},
   "source": [
    "## 10. Save Preprocessor (Optional for Reuse)"
   ]
  },
  {
   "cell_type": "code",
   "execution_count": null,
   "id": "b47a04bf",
   "metadata": {},
   "outputs": [],
   "source": [
    "import joblib\n",
    "from pathlib import Path\n",
    "Path('../models').mkdir(exist_ok=True)\n",
    "joblib.dump(preprocessor, '../models/preprocessor.pkl')\n",
    "print('Saved preprocessor.')"
   ]
  },
  {
   "cell_type": "markdown",
   "id": "ed9488b2",
   "metadata": {},
   "source": [
    "## Notes & Pitfalls\n",
    "- Verify correct target column name early.\n",
    "- Low-cardinality numeric encoded as categorical can improve tree models but may hurt linear; revisit after baseline.\n",
    "- Outliers: consider robust scaling if heavy tails.\n",
    "- Class imbalance: if strong, consider ROC AUC, PR AUC, and maybe class_weight or resampling later."
   ]
  }
 ],
 "metadata": {
  "language_info": {
   "name": "python"
  }
 },
 "nbformat": 4,
 "nbformat_minor": 5
}
