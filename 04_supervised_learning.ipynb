{
 "cells": [
  {
   "cell_type": "markdown",
   "id": "2b7715ba",
   "metadata": {},
   "source": [
    "# 04 – Supervised Learning (Classification)\n",
    "\n",
    "Models: Logistic Regression, Decision Tree, Random Forest, SVM.\n",
    "Evaluation: Accuracy, Precision, Recall, F1, ROC AUC.\n",
    "Use consistent preprocessing pipeline and cross-validation."
   ]
  },
  {
   "cell_type": "code",
   "execution_count": null,
   "id": "516050b4",
   "metadata": {},
   "outputs": [],
   "source": [
    "import pandas as pd, numpy as np\n",
    "from pathlib import Path\n",
    "from sklearn.model_selection import train_test_split, cross_validate\n",
    "from sklearn.pipeline import Pipeline\n",
    "from sklearn.compose import ColumnTransformer\n",
    "from sklearn.preprocessing import OneHotEncoder, StandardScaler\n",
    "from sklearn.impute import SimpleImputer\n",
    "from sklearn.linear_model import LogisticRegression\n",
    "from sklearn.tree import DecisionTreeClassifier\n",
    "from sklearn.ensemble import RandomForestClassifier\n",
    "from sklearn.svm import SVC\n",
    "from sklearn.metrics import RocCurveDisplay, roc_auc_score\n",
    "import matplotlib.pyplot as plt\n",
    "import joblib\n",
    "\n",
    "df = pd.read_csv(Path('../data/heart_disease.csv'))\n",
    "target_col = 'target' if 'target' in df.columns else 'num'\n",
    "y = df[target_col]\n",
    "X = df.drop(columns=[target_col])\n",
    "categorical = [c for c in X.columns if X[c].dtype=='object']\n",
    "numeric = [c for c in X.columns if c not in categorical]\n",
    "\n",
    "numeric_transformer = Pipeline([('imputer', SimpleImputer(strategy='median')), ('scaler', StandardScaler())])\n",
    "categorical_transformer = Pipeline([('imputer', SimpleImputer(strategy='most_frequent')), ('ohe', OneHotEncoder(handle_unknown='ignore'))])\n",
    "preprocessor = ColumnTransformer([('num', numeric_transformer, numeric), ('cat', categorical_transformer, categorical)])\n",
    "\n",
    "X_train, X_test, y_train, y_test = train_test_split(X, y, stratify=y, test_size=0.2, random_state=42)\n",
    "\n",
    "models = {\n",
    "    'log_reg': LogisticRegression(max_iter=1000),\n",
    "    'dtree': DecisionTreeClassifier(random_state=42),\n",
    "    'rf': RandomForestClassifier(n_estimators=300, random_state=42),\n",
    "    'svm': SVC(probability=True, kernel='rbf', random_state=42)\n",
    "}\n",
    "\n",
    "scoring = {'accuracy':'accuracy','precision':'precision','recall':'recall','f1':'f1','roc_auc':'roc_auc'}\n",
    "results = []\n",
    "for name, clf in models.items():\n",
    "    pipe = Pipeline([('prep', preprocessor), ('clf', clf)])\n",
    "    cv_scores = cross_validate(pipe, X_train, y_train, scoring=scoring, cv=5, n_jobs=-1)\n",
    "    row = {'model': name}\n",
    "    for metric in scoring.keys():\n",
    "        row[metric] = cv_scores['test_'+metric].mean()\n",
    "    results.append(row)\n",
    "pd.DataFrame(results)"
   ]
  },
  {
   "cell_type": "markdown",
   "id": "a92c87c2",
   "metadata": {},
   "source": [
    "## 1. Fit Best Baseline on Full Train & Evaluate Test"
   ]
  },
  {
   "cell_type": "code",
   "execution_count": null,
   "id": "a9f89656",
   "metadata": {},
   "outputs": [],
   "source": [
    "# Choose model with highest roc_auc or f1\n",
    "metric_df = pd.DataFrame(results)\n",
    "best_name = metric_df.sort_values('roc_auc', ascending=False).iloc[0]['model']\n",
    "best_name\n",
    "best_clf = models[best_name]\n",
    "best_pipe = Pipeline([('prep', preprocessor), ('clf', best_clf)])\n",
    "best_pipe.fit(X_train, y_train)\n",
    "from sklearn.metrics import classification_report, ConfusionMatrixDisplay\n",
    "y_pred = best_pipe.predict(X_test)\n",
    "y_proba = best_pipe.predict_proba(X_test)[:,1]\n",
    "print(classification_report(y_test, y_pred))\n",
    "print('Test ROC AUC:', roc_auc_score(y_test, y_proba))\n",
    "ConfusionMatrixDisplay.from_estimator(best_pipe, X_test, y_test) "
   ]
  },
  {
   "cell_type": "code",
   "execution_count": null,
   "id": "99a9f788",
   "metadata": {},
   "outputs": [],
   "source": [
    "RocCurveDisplay.from_predictions(y_test, y_proba)"
   ]
  },
  {
   "cell_type": "markdown",
   "id": "e3e8eeb7",
   "metadata": {},
   "source": [
    "## 2. Save Baseline Best Pipeline"
   ]
  },
  {
   "cell_type": "code",
   "execution_count": null,
   "id": "4d039cfb",
   "metadata": {},
   "outputs": [],
   "source": [
    "joblib.dump(best_pipe, '../models/baseline_best.pkl')\n",
    "print('Saved baseline model.')"
   ]
  },
  {
   "cell_type": "markdown",
   "id": "d92213bd",
   "metadata": {},
   "source": [
    "## Notes\n",
    "- SVM with probability=True incurs Platt scaling cost; acceptable for dataset size.\n",
    "- For imbalanced: inspect PR curve.\n",
    "- Fix random seeds for reproducibility."
   ]
  }
 ],
 "metadata": {
  "language_info": {
   "name": "python"
  }
 },
 "nbformat": 4,
 "nbformat_minor": 5
}
