{
 "cells": [
  {
   "cell_type": "markdown",
   "id": "397fe7f8",
   "metadata": {},
   "source": [
    "# 02 – PCA Analysis\n",
    "\n",
    "Goals:\n",
    "- Load training split or reuse preprocessing\n",
    "- Apply PCA on scaled numeric (or full encoded) data\n",
    "- Decide number of components via cumulative explained variance (e.g., 90–95%)\n",
    "- Visualize first 2–3 PCs colored by target.\n",
    "\n",
    "Key Concepts:\n",
    "PCA projects data onto orthogonal axes maximizing variance. Requires centered/ scaled input; categorical OHE expansion can inflate dimensionality. Beware interpretability loss."
   ]
  },
  {
   "cell_type": "code",
   "execution_count": null,
   "id": "d39455db",
   "metadata": {},
   "outputs": [],
   "source": [
    "import pandas as pd, numpy as np\n",
    "from pathlib import Path\n",
    "import matplotlib.pyplot as plt\n",
    "import seaborn as sns\n",
    "from sklearn.decomposition import PCA\n",
    "import joblib\n",
    "\n",
    "DATA_PATH = Path('../data/heart_disease.csv')\n",
    "df = pd.read_csv(DATA_PATH)\n",
    "target_col = 'target' if 'target' in df.columns else 'num'\n",
    "y = df[target_col]\n",
    "X = df.drop(columns=[target_col])\n",
    "\n",
    "# Load preprocessor built earlier\n",
    "preprocessor = joblib.load('../models/preprocessor.pkl')\n",
    "X_enc = preprocessor.fit_transform(X)  # If already fit, use transform only\n",
    "X_enc.shape"
   ]
  },
  {
   "cell_type": "markdown",
   "id": "710ca5c2",
   "metadata": {},
   "source": [
    "## 1. Fit PCA (Full Dimensionality)"
   ]
  },
  {
   "cell_type": "code",
   "execution_count": null,
   "id": "fbde12c0",
   "metadata": {},
   "outputs": [],
   "source": [
    "pca_full = PCA(random_state=42)\n",
    "pca_full.fit(X_enc.toarray() if hasattr(X_enc,'toarray') else X_enc)\n",
    "expl_var = pca_full.explained_variance_ratio_\n",
    "expl_var[:10]"
   ]
  },
  {
   "cell_type": "markdown",
   "id": "60c4cb12",
   "metadata": {},
   "source": [
    "## 2. Cumulative Explained Variance Plot"
   ]
  },
  {
   "cell_type": "code",
   "execution_count": null,
   "id": "6c0109ea",
   "metadata": {},
   "outputs": [],
   "source": [
    "cum_var = expl_var.cumsum()\n",
    "plt.figure(figsize=(8,5))\n",
    "plt.plot(range(1, len(cum_var)+1), cum_var, marker='o')\n",
    "plt.axhline(0.90, color='r', ls='--', label='90%')\n",
    "plt.axhline(0.95, color='g', ls='--', label='95%')\n",
    "plt.xlabel('Components')\n",
    "plt.ylabel('Cumulative Explained Variance')\n",
    "plt.legend(); plt.title('Cumulative Explained Variance by #Components')\n",
    "plt.show()"
   ]
  },
  {
   "cell_type": "markdown",
   "id": "2081eb10",
   "metadata": {},
   "source": [
    "## 3. Choose k Components\n",
    "Pick smallest k achieving chosen threshold (e.g., 95%)."
   ]
  },
  {
   "cell_type": "code",
   "execution_count": null,
   "id": "a5089111",
   "metadata": {},
   "outputs": [],
   "source": [
    "k_95 = np.argmax(cum_var >= 0.95) + 1\n",
    "k_90 = np.argmax(cum_var >= 0.90) + 1\n",
    "k_90, k_95"
   ]
  },
  {
   "cell_type": "markdown",
   "id": "8a31d49f",
   "metadata": {},
   "source": [
    "## 4. 2D Projection (PC1 vs PC2) Colored by Target"
   ]
  },
  {
   "cell_type": "code",
   "execution_count": null,
   "id": "7c6a54e8",
   "metadata": {},
   "outputs": [],
   "source": [
    "pca2 = PCA(n_components=2, random_state=42)\n",
    "X_pca2 = pca2.fit_transform(X_enc.toarray() if hasattr(X_enc,'toarray') else X_enc)\n",
    "plt.figure(figsize=(7,6))\n",
    "sns.scatterplot(x=X_pca2[:,0], y=X_pca2[:,1], hue=y, palette='coolwarm', alpha=0.7)\n",
    "plt.title('PCA Scatter (PC1 vs PC2)')\n",
    "plt.xlabel('PC1'); plt.ylabel('PC2')\n",
    "plt.show()"
   ]
  },
  {
   "cell_type": "markdown",
   "id": "330376af",
   "metadata": {},
   "source": [
    "## 5. Variance Contribution of First 10 PCs"
   ]
  },
  {
   "cell_type": "code",
   "execution_count": null,
   "id": "b0d341e4",
   "metadata": {},
   "outputs": [],
   "source": []
  },
  {
   "cell_type": "code",
   "execution_count": null,
   "id": "eebbd55b",
   "metadata": {},
   "outputs": [],
   "source": [
    "plt.figure(figsize=(8,4))\n",
    "plt.bar(range(1,11), expl_var[:10])\n",
    "plt.xlabel('Principal Component')\n",
    "plt.ylabel('Explained Variance Ratio')\n",
    "plt.title('Top 10 Principal Components')\n",
    "plt.show()"
   ]
  },
  {
   "cell_type": "markdown",
   "id": "0fef8199",
   "metadata": {},
   "source": [
    "## 6. Save Fitted PCA (Optional)"
   ]
  },
  {
   "cell_type": "code",
   "execution_count": null,
   "id": "9cdbdd8f",
   "metadata": {},
   "outputs": [],
   "source": [
    "joblib.dump(pca_full, '../models/pca_full.pkl')\n",
    "print('Saved PCA model.')"
   ]
  },
  {
   "cell_type": "markdown",
   "id": "a2e7d4e4",
   "metadata": {},
   "source": [
    "## Notes & Pitfalls\n",
    "- PCA on sparse OHE may densify data; watch memory (use TruncatedSVD for high-dimensional sparse).\n",
    "- Interpret components cautiously—linear combos of encoded variables.\n",
    "- Consider performing PCA only on numeric scaled subset if categorical interpretability needed."
   ]
  }
 ],
 "metadata": {
  "language_info": {
   "name": "python"
  }
 },
 "nbformat": 4,
 "nbformat_minor": 5
}
