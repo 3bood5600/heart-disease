{
 "cells": [
  {
   "cell_type": "markdown",
   "id": "37c58a83",
   "metadata": {},
   "source": [
    "# 03 – Feature Selection\n",
    "\n",
    "Techniques:\n",
    "1. Filter: Chi-Square (categorical vs target) or ANOVA (numeric)\n",
    "2. Wrapper: Recursive Feature Elimination (RFE) with estimator\n",
    "3. Embedded: Tree-based feature importances (RandomForest, XGBoost)\n",
    "\n",
    "Goal: Decide a reduced, performant, and interpretable subset for modeling."
   ]
  },
  {
   "cell_type": "code",
   "execution_count": null,
   "id": "2ca56558",
   "metadata": {},
   "outputs": [],
   "source": [
    "import pandas as pd, numpy as np\n",
    "from pathlib import Path\n",
    "from sklearn.model_selection import train_test_split\n",
    "from sklearn.preprocessing import StandardScaler, LabelEncoder, OneHotEncoder\n",
    "from sklearn.decomposition import PCA\n",
    "from sklearn.compose import ColumnTransformer\n",
    "from sklearn.pipeline import Pipeline\n",
    "from sklearn.impute import SimpleImputer\n",
    "from sklearn.metrics import classification_report, confusion_matrix, accuracy_score\n",
    "from sklearn.feature_selection import chi2, SelectKBest, RFE\n",
    "from sklearn.linear_model import LogisticRegression\n",
    "from sklearn.ensemble import RandomForestClassifier\n",
    "import joblib\n",
    "\n",
    "df = pd.read_csv(Path('../data/heart_disease.csv'))\n",
    "target_col = 'target' if 'target' in df.columns else 'num'\n",
    "y = df[target_col]\n",
    "X = df.drop(columns=[target_col])\n",
    "\n",
    "categorical = [c for c in X.columns if X[c].dtype=='object']\n",
    "numeric = [c for c in X.columns if c not in categorical]\n",
    "\n",
    "numeric_transformer = Pipeline([('imputer', SimpleImputer(strategy='median')), ('scaler', StandardScaler())])\n",
    "categorical_transformer = Pipeline([('imputer', SimpleImputer(strategy='most_frequent')), ('ohe', OneHotEncoder(handle_unknown='ignore'))])\n",
    "preprocessor = ColumnTransformer([('num', numeric_transformer, numeric), ('cat', categorical_transformer, categorical)])\n",
    "\n",
    "X_train, X_test, y_train, y_test = train_test_split(X, y, stratify=y, test_size=0.2, random_state=42)"
   ]
  },
  {
   "cell_type": "markdown",
   "id": "696f9a4e",
   "metadata": {},
   "source": [
    "## 1. Embedded: RandomForest Feature Importance"
   ]
  },
  {
   "cell_type": "code",
   "execution_count": null,
   "id": "027443a3",
   "metadata": {},
   "outputs": [],
   "source": [
    "rf_pipeline = Pipeline([('prep', preprocessor), ('rf', RandomForestClassifier(n_estimators=300, random_state=42))])\n",
    "rf_pipeline.fit(X_train, y_train)\n",
    "importances = rf_pipeline.named_steps['rf'].feature_importances_\n",
    "# Get feature names post-transform\n",
    "ohe = rf_pipeline.named_steps['prep'].named_transformers_['cat'].named_steps['ohe'] if categorical else None\n",
    "num_feats = numeric\n",
    "cat_feats = list(ohe.get_feature_names_out(categorical)) if categorical else []\n",
    "all_feats = num_feats + cat_feats\n",
    "feat_imp = pd.Series(importances, index=all_feats).sort_values(ascending=False)[:25]\n",
    "feat_imp.head()"
   ]
  },
  {
   "cell_type": "code",
   "execution_count": null,
   "id": "c962751d",
   "metadata": {},
   "outputs": [],
   "source": [
    "feat_imp.plot(kind='barh', figsize=(6,10)).invert_yaxis()"
   ]
  },
  {
   "cell_type": "markdown",
   "id": "031e9c09",
   "metadata": {},
   "source": [
    "## 2. Wrapper: RFE with LogisticRegression"
   ]
  },
  {
   "cell_type": "code",
   "execution_count": null,
   "id": "1d623e59",
   "metadata": {},
   "outputs": [],
   "source": [
    "# For RFE we need transformed array; use a simpler pipeline then apply RFE externally\n",
    "prep_only = preprocessor.fit(X_train)\n",
    "X_train_enc = prep_only.transform(X_train)\n",
    "log_reg = LogisticRegression(max_iter=1000, penalty='l2', solver='liblinear')\n",
    "rfe = RFE(estimator=log_reg, n_features_to_select=10)\n",
    "rfe.fit(X_train_enc, y_train)\n",
    "selected_mask = rfe.support_\n",
    "selected_features = np.array(all_feats)[selected_mask]\n",
    "selected_features"
   ]
  },
  {
   "cell_type": "markdown",
   "id": "a8704a61",
   "metadata": {},
   "source": [
    "## 3. Filter: Chi-Square (on non-negative features)"
   ]
  },
  {
   "cell_type": "code",
   "execution_count": null,
   "id": "79c877d7",
   "metadata": {},
   "outputs": [],
   "source": [
    "# Chi2 requires non-negative; apply only to scaled positives or use MinMax; for simplicity re-transform with MinMax.\n",
    "from sklearn.preprocessing import MinMaxScaler\n",
    "mm_numeric = Pipeline([('imputer', SimpleImputer(strategy='median')), ('mm', MinMaxScaler())])\n",
    "chi_preprocessor = ColumnTransformer([('num', mm_numeric, numeric), ('cat', OneHotEncoder(handle_unknown='ignore'), categorical)])\n",
    "X_train_chi = chi_preprocessor.fit_transform(X_train)\n",
    "chi_selector = SelectKBest(score_func=chi2, k=10)\n",
    "chi_selector.fit(X_train_chi, y_train)\n",
    "chi_mask = chi_selector.get_support()\n",
    "chi_feature_names = []\n",
    "# Build feature names again\n",
    "chi_ohe = chi_preprocessor.named_transformers_['cat'] if categorical else None\n",
    "chi_all = numeric + (list(chi_ohe.get_feature_names_out(categorical)) if categorical else [])\n",
    "chi_feature_names = list(np.array(chi_all)[chi_mask])\n",
    "chi_feature_names"
   ]
  },
  {
   "cell_type": "markdown",
   "id": "0ccdb14b",
   "metadata": {},
   "source": [
    "## 4. Consolidate & Decide Final Subset\n",
    "Intersect / union strategies: start with intersection of RF & RFE; add high chi2 if missing but conceptually relevant."
   ]
  },
  {
   "cell_type": "code",
   "execution_count": null,
   "id": "cead5676",
   "metadata": {},
   "outputs": [],
   "source": [
    "rf_top_15 = set(feat_imp.index[:15])\n",
    "rfe_set = set(selected_features)\n",
    "chi_set = set(chi_feature_names)\n",
    "intersection = rf_top_15 & rfe_set\n",
    "candidate_final = list(intersection | chi_set)\n",
    "candidate_final"
   ]
  },
  {
   "cell_type": "markdown",
   "id": "54e57bd8",
   "metadata": {},
   "source": [
    "## 5. Save Selected Feature List"
   ]
  },
  {
   "cell_type": "code",
   "execution_count": null,
   "id": "227010d8",
   "metadata": {},
   "outputs": [],
   "source": [
    "import json, pathlib\n",
    "pathlib.Path('../models').mkdir(exist_ok=True)\n",
    "with open('../models/selected_features.json','w') as f: json.dump(candidate_final, f)\n",
    "print('Saved selected feature list.')"
   ]
  },
  {
   "cell_type": "markdown",
   "id": "a25fdd14",
   "metadata": {},
   "source": [
    "## Notes\n",
    "- RFE cost grows with #features * #iterations; consider RFECV for automatic selection with cross-val.\n",
    "- Chi2 only for categorical / non-negative counts; scale to [0,1] otherwise.\n",
    "- Stability selection or permutation importance can validate robustness."
   ]
  }
 ],
 "metadata": {
  "language_info": {
   "name": "python"
  }
 },
 "nbformat": 4,
 "nbformat_minor": 5
}
