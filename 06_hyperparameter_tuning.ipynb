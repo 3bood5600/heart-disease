{
 "cells": [
  {
   "cell_type": "markdown",
   "id": "06af82a4",
   "metadata": {},
   "source": [
    "# 06 – Hyperparameter Tuning\n",
    "\n",
    "Focus: Improve top baseline models using GridSearchCV & RandomizedSearchCV.\n",
    "Compare tuned vs baseline on hold-out test set."
   ]
  },
  {
   "cell_type": "code",
   "execution_count": null,
   "id": "ce5dfc43",
   "metadata": {},
   "outputs": [],
   "source": [
    "import pandas as pd, numpy as np\n",
    "from pathlib import Path\n",
    "from sklearn.model_selection import train_test_split, GridSearchCV, RandomizedSearchCV\n",
    "from sklearn.pipeline import Pipeline\n",
    "from sklearn.compose import ColumnTransformer\n",
    "from sklearn.preprocessing import OneHotEncoder, StandardScaler\n",
    "from sklearn.impute import SimpleImputer\n",
    "from sklearn.ensemble import RandomForestClassifier\n",
    "from sklearn.linear_model import LogisticRegression\n",
    "from sklearn.metrics import roc_auc_score, f1_score, classification_report\n",
    "from scipy.stats import randint, uniform\n",
    "import joblib\n",
    "\n",
    "df = pd.read_csv(Path('../data/heart_disease.csv'))\n",
    "target_col = 'target' if 'target' in df.columns else 'num'\n",
    "y = df[target_col]\n",
    "X = df.drop(columns=[target_col])\n",
    "categorical = [c for c in X.columns if X[c].dtype=='object']\n",
    "numeric = [c for c in X.columns if c not in categorical]\n",
    "\n",
    "numeric_transformer = Pipeline([('imputer', SimpleImputer(strategy='median')), ('scaler', StandardScaler())])\n",
    "categorical_transformer = Pipeline([('imputer', SimpleImputer(strategy='most_frequent')), ('ohe', OneHotEncoder(handle_unknown='ignore'))])\n",
    "preprocessor = ColumnTransformer([('num', numeric_transformer, numeric), ('cat', categorical_transformer, categorical)])\n",
    "\n",
    "X_train, X_test, y_train, y_test = train_test_split(X, y, stratify=y, test_size=0.2, random_state=42)"
   ]
  },
  {
   "cell_type": "markdown",
   "id": "05725282",
   "metadata": {},
   "source": [
    "## 1. Randomized Search – RandomForest"
   ]
  },
  {
   "cell_type": "code",
   "execution_count": null,
   "id": "13119de5",
   "metadata": {},
   "outputs": [],
   "source": [
    "rf = RandomForestClassifier(random_state=42)\n",
    "rf_pipe = Pipeline([('prep', preprocessor), ('rf', rf)])\n",
    "rf_dist = {\n",
    "    'rf__n_estimators': randint(200, 600),\n",
    "    'rf__max_depth': randint(3, 20),\n",
    "    'rf__min_samples_split': randint(2, 15),\n",
    "    'rf__min_samples_leaf': randint(1, 10)\n",
    "}\n",
    "rf_rand = RandomizedSearchCV(rf_pipe, rf_dist, n_iter=30, scoring='roc_auc', cv=5, random_state=42, n_jobs=-1)\n",
    "rf_rand.fit(X_train, y_train)\n",
    "rf_rand.best_params_, rf_rand.best_score_"
   ]
  },
  {
   "cell_type": "markdown",
   "id": "71643f9a",
   "metadata": {},
   "source": [
    "## 2. Grid Search – Logistic Regression (Refined around penalty/C)"
   ]
  },
  {
   "cell_type": "code",
   "execution_count": null,
   "id": "aa0e5e5b",
   "metadata": {},
   "outputs": [],
   "source": [
    "log_reg = LogisticRegression(max_iter=2000, solver='liblinear')\n",
    "log_pipe = Pipeline([('prep', preprocessor), ('log', log_reg)])\n",
    "log_grid = {\n",
    "    'log__penalty': ['l1','l2'],\n",
    "    'log__C': [0.01, 0.1, 1, 5, 10]\n",
    "}\n",
    "log_search = GridSearchCV(log_pipe, log_grid, scoring='roc_auc', cv=5, n_jobs=-1)\n",
    "log_search.fit(X_train, y_train)\n",
    "log_search.best_params_, log_search.best_score_"
   ]
  },
  {
   "cell_type": "markdown",
   "id": "f1b05ef8",
   "metadata": {},
   "source": [
    "## 3. Evaluate Tuned Models on Test Set"
   ]
  },
  {
   "cell_type": "code",
   "execution_count": null,
   "id": "25971228",
   "metadata": {},
   "outputs": [],
   "source": [
    "best_rf = rf_rand.best_estimator_\n",
    "best_log = log_search.best_estimator_\n",
    "for name, model in [('rf_tuned', best_rf), ('log_tuned', best_log)]:\n",
    "    y_pred = model.predict(X_test)\n",
    "    y_proba = model.predict_proba(X_test)[:,1]\n",
    "    print(name, 'ROC AUC:', roc_auc_score(y_test, y_proba), 'F1:', f1_score(y_test, y_pred))\n",
    "    print(classification_report(y_test, y_pred))"
   ]
  },
  {
   "cell_type": "markdown",
   "id": "a9db3b58",
   "metadata": {},
   "source": [
    "## 4. Choose Final Model & Persist"
   ]
  },
  {
   "cell_type": "code",
   "execution_count": null,
   "id": "06247c83",
   "metadata": {},
   "outputs": [],
   "source": [
    "# Suppose best_rf wins by ROC AUC\n",
    "final_model = best_rf\n",
    "joblib.dump(final_model, '../models/final_model.pkl')\n",
    "print('Saved final model pipeline.')"
   ]
  },
  {
   "cell_type": "markdown",
   "id": "2b9c0b1c",
   "metadata": {},
   "source": [
    "## Notes\n",
    "- RandomizedSearch scales better early; follow with focused GridSearch.\n",
    "- Evaluate stability: compare CV score vs test to detect overfit.\n",
    "- Consider stratified KFold (default for classification in scikit-learn).\n",
    "- For imbalanced data, tune with 'roc_auc' or 'f1' rather than accuracy."
   ]
  }
 ],
 "metadata": {
  "language_info": {
   "name": "python"
  }
 },
 "nbformat": 4,
 "nbformat_minor": 5
}
