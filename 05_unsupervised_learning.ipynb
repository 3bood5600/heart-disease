{
 "cells": [
  {
   "cell_type": "markdown",
   "id": "af18ee16",
   "metadata": {},
   "source": [
    "# 05 – Unsupervised Learning (Clustering)\n",
    "\n",
    "Approach:\n",
    "- KMeans with Elbow + Silhouette\n",
    "- Hierarchical Agglomerative (dendrogram)\n",
    "- Compare clusters vs target (purity, adjusted rand index)."
   ]
  },
  {
   "cell_type": "code",
   "execution_count": null,
   "id": "9df1e0e6",
   "metadata": {},
   "outputs": [],
   "source": [
    "import pandas as pd, numpy as np\n",
    "from pathlib import Path\n",
    "from sklearn.preprocessing import StandardScaler, OneHotEncoder\n",
    "from sklearn.compose import ColumnTransformer\n",
    "from sklearn.pipeline import Pipeline\n",
    "from sklearn.impute import SimpleImputer\n",
    "from sklearn.cluster import KMeans, AgglomerativeClustering\n",
    "from sklearn.metrics import silhouette_score, adjusted_rand_score\n",
    "import scipy.cluster.hierarchy as sch\n",
    "import matplotlib.pyplot as plt\n",
    "\n",
    "df = pd.read_csv(Path('../data/heart_disease.csv'))\n",
    "target_col = 'target' if 'target' in df.columns else 'num'\n",
    "y = df[target_col]\n",
    "X = df.drop(columns=[target_col])\n",
    "categorical = [c for c in X.columns if X[c].dtype=='object']\n",
    "numeric = [c for c in X.columns if c not in categorical]\n",
    "\n",
    "numeric_transformer = Pipeline([('imputer', SimpleImputer(strategy='median')), ('scaler', StandardScaler())])\n",
    "categorical_transformer = Pipeline([('imputer', SimpleImputer(strategy='most_frequent')), ('ohe', OneHotEncoder(handle_unknown='ignore'))])\n",
    "preprocessor = ColumnTransformer([('num', numeric_transformer, numeric), ('cat', categorical_transformer, categorical)])\n",
    "X_enc = preprocessor.fit_transform(X)\n",
    "\n",
    "# KMeans Elbow\n",
    "inertias = []\n",
    "K_range = range(2,11)\n",
    "for k in K_range:\n",
    "    km = KMeans(n_clusters=k, random_state=42, n_init=10) \n",
    "    km.fit(X_enc)\n",
    "    inertias.append(km.inertia_)\n",
    "plt.plot(list(K_range), inertias, marker='o'); plt.xlabel('k'); plt.ylabel('Inertia'); plt.title('KMeans Elbow'); plt.show()"
   ]
  },
  {
   "cell_type": "markdown",
   "id": "ae85c65f",
   "metadata": {},
   "source": [
    "## 1. Silhouette Scores"
   ]
  },
  {
   "cell_type": "code",
   "execution_count": null,
   "id": "43d1c849",
   "metadata": {},
   "outputs": [],
   "source": [
    "sil_scores = []\n",
    "for k in K_range:\n",
    "    km = KMeans(n_clusters=k, random_state=42, n_init=10).fit(X_enc)\n",
    "    sil = silhouette_score(X_enc, km.labels_)\n",
    "    sil_scores.append(sil)\n",
    "plt.plot(list(K_range), sil_scores, marker='o'); plt.xlabel('k'); plt.ylabel('Silhouette'); plt.title('Silhouette vs k'); plt.show()"
   ]
  },
  {
   "cell_type": "markdown",
   "id": "322ccb94",
   "metadata": {},
   "source": [
    "## 2. Fit Chosen K & Compare to True Labels"
   ]
  },
  {
   "cell_type": "code",
   "execution_count": null,
   "id": "d1cbae42",
   "metadata": {},
   "outputs": [],
   "source": [
    "best_k = 2  # often heart disease dataset approximates binary separation\n",
    "kmeans = KMeans(n_clusters=best_k, random_state=42, n_init=10)\n",
    "clusters = kmeans.fit_predict(X_enc)\n",
    "from collections import Counter\n",
    "Counter(clusters)\n",
    "from sklearn.metrics import confusion_matrix\n",
    "import numpy as np\n",
    "cm = confusion_matrix(y, clusters)  # order may not align\n",
    "cm"
   ]
  },
  {
   "cell_type": "markdown",
   "id": "06533159",
   "metadata": {},
   "source": [
    "## 3. Adjusted Rand Index"
   ]
  },
  {
   "cell_type": "code",
   "execution_count": null,
   "id": "4e2dd783",
   "metadata": {},
   "outputs": [],
   "source": [
    "ari = adjusted_rand_score(y, clusters)\n",
    "ari"
   ]
  },
  {
   "cell_type": "markdown",
   "id": "40e2bfb4",
   "metadata": {},
   "source": [
    "## 4. Hierarchical Clustering Dendrogram"
   ]
  },
  {
   "cell_type": "code",
   "execution_count": null,
   "id": "df9d0789",
   "metadata": {},
   "outputs": [],
   "source": [
    "# For dendrogram, sample to limit size if necessary\n",
    "sample_idx = np.random.choice(range(X_enc.shape[0]), size=min(300, X_enc.shape[0]), replace=False)\n",
    "X_sample = X_enc[sample_idx]\n",
    "Z = sch.linkage(X_sample.todense() if hasattr(X_sample,'todense') else X_sample, method='ward')\n",
    "plt.figure(figsize=(10,5))\n",
    "sch.dendrogram(Z, truncate_mode='level', p=4) \n",
    "plt.title('Hierarchical Clustering Dendrogram (truncated)')\n",
    "plt.show()"
   ]
  },
  {
   "cell_type": "markdown",
   "id": "f6358636",
   "metadata": {},
   "source": [
    "## Notes\n",
    "- Clusters rarely align perfectly with diagnostic label; ARI quantifies agreement.\n",
    "- Standardize features—mixtures of scales can dominate distance.\n",
    "- Consider dimensionality reduction (PCA) before clustering to reduce noise."
   ]
  }
 ],
 "metadata": {
  "language_info": {
   "name": "python"
  }
 },
 "nbformat": 4,
 "nbformat_minor": 5
}
